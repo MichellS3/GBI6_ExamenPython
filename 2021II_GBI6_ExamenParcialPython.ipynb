{
 "cells": [
  {
   "cell_type": "markdown",
   "metadata": {},
   "source": [
    "<img src=\"https://www.ikiam.edu.ec/img/logo-ikiam-grey.png\" width=300 height=240 />\n",
    "\n",
    "# EXAMEN PARCIAL PYTHON\n",
    "    \n",
    "\n",
    "## GBI6-2021II: BIOINFORMÁTICA\n",
    "\n",
    "**Salcán Castillo Shirley Michell\n",
    "\n",
    "**18-02-2021**"
   ]
  },
  {
   "cell_type": "markdown",
   "metadata": {},
   "source": [
    "<font color='red'>NO AGREGUE NUEVAS CELDAS, UTILICE ÚNICAMENTE LAS QUE ESTÁN CREADAS</font>\n"
   ]
  },
  {
   "cell_type": "markdown",
   "metadata": {},
   "source": [
    "### REQUERIMIENTOS PARA EL EXAMEN\n",
    "Para este examen se requiere dos documentos: \n",
    "\n",
    "1. Archivo ```miningscience.py``` donde tendrá dos funciones:\n",
    "\n",
    "2. Archivo ```2021II_GBI6_ExamenParcialPython``` donde se llamará las funciones y se obtendrá resultados."
   ]
  },
  {
   "cell_type": "markdown",
   "metadata": {},
   "source": [
    "## Ejercicio 1 [2 puntos]\n",
    "Cree el archivo ```miningscience.py``` con las siguientes dosfunciones:\n",
    "    \n",
    "i. ```download_pubmed```: para descargar la data de PubMed utilizando el **ENTREZ** de Biopython. El parámetro de entrada para la función es el ```keyword```. \n",
    "    \n",
    "ii. ```mining_pubs```: esta función debe utilizar el módulo **re** y utilizar el párametro ```tipo``` para realizar lo siguiente:\n",
    "        \n",
    "* Si el tipo es \"DP\" recupera el año de publicación del artículo. El retorno es un *dataframe* con el **PMID** y el **DP_year**.\n",
    "      \n",
    "* Si el tipo es \"AU\" recupera el número de autores por **PMID**. El retorno es un *dataframe* con el **PMID** y el **num_auth**. \n",
    "      \n",
    "* Si el tipo es \"AD\" recupera el conteo de autores por país. El retorno es un *dataframe* con el **country** y el **num_auth**. \n",
    "\n",
    "* *Puede utilizar un ```if``` dentro de la función.* \n",
    "\n",
    "* *Cree un docstring para cada función.* \n",
    "\n",
    "Luego de crear las funciones, cargue el módulo ```miningscience``` como ```msc``` e imprima docstring de cada función.\n",
    "\n",
    "\n"
   ]
  },
  {
   "cell_type": "code",
   "execution_count": 1,
   "metadata": {},
   "outputs": [
    {
     "name": "stdout",
     "output_type": "stream",
     "text": [
      "Help on function download_pubmed in module miningscience:\n",
      "\n",
      "download_pubmed(keyword)\n",
      "    La función download_pubmed recibe un argumento, que corresponde a palabras claves con las cuales se realizará una búsqueda \n",
      "    en Pubmed y  retorna la búsqueda en la base de datos antes nombrada, tal cual una descarga tipo PubMed.\n",
      "    keyword: son palabras claves de búsqueda\n",
      "\n",
      "Help on function mining_pubs in module miningscience:\n",
      "\n",
      "mining_pubs(tipo, archivo)\n",
      "    La función mining_pubs recibe dos argumentos, que corresponde al tipo de minado de datos que se desea y el documento del \n",
      "    cual se va a extraer los datos.\n",
      "    Tipo: puede ser DP, AU o AD.\n",
      "           \"DP\" --> recupera el año de publicación del artículo. El retorno es un dataframe con el PMID y el DP_year.\n",
      "           \"AU\" --> recupera el número de autores por PMID. El retorno es un dataframe con el PMID y el num_auth.\n",
      "           \"AD\" -->recupera el conteo de autores por país. El retorno es un dataframe con el country y el num_auth.\n",
      "    Archivo: corresponde al archivo del cual se extraerá la infomarción\n",
      "\n"
     ]
    }
   ],
   "source": [
    "import miningscience as msc\n",
    "\n",
    "help(msc.download_pubmed)\n",
    "help(msc.mining_pubs)"
   ]
  },
  {
   "cell_type": "markdown",
   "metadata": {},
   "source": [
    "\n",
    "## Ejercicio 2 [1 punto]\n",
    "\n",
    "\n",
    "Utilice la función ```download_pubmed``` para descargar la data con el keyword ```Ecuador genomics``` e imprima lo siguiente: \n",
    "\n",
    "```python\n",
    "'El número de artículos es: xx' # xx corresponde al número de artículos recuperados\n",
    "\n",
    "'El PMID del primer artículo es: xxxxxxxx' # xxxxxxxx corresponde al ID del artículo en PUDMED\n",
    "\n",
    "```"
   ]
  },
  {
   "cell_type": "code",
   "execution_count": 57,
   "metadata": {
    "scrolled": false
   },
   "outputs": [
    {
     "name": "stdout",
     "output_type": "stream",
     "text": [
      "El número de artículos es:  193\n",
      "El PMID del primero artículo es:  PMID- 35121084\n",
      "\n"
     ]
    }
   ],
   "source": [
    "# Escriba aquí su código para el ejercicio 2\n",
    "import miningscience\n",
    "import re\n",
    "a=miningscience.download_pubmed('Ecuador genomics')\n",
    "b=re.findall(r'[DIMP]{4}\\-.*\\d\\n',a)\n",
    "print ('El número de artículos es: ', len(b))\n",
    "print ('El PMID del primero artículo es: ',b[0])"
   ]
  },
  {
   "cell_type": "markdown",
   "metadata": {},
   "source": [
    "## Ejercicio 3 [1 punto]\n",
    "\n",
    "Utilice la función ```mining_pubs``` para crear los siguientes dataframes: \n",
    "\n",
    "* pub_year\n",
    "\n",
    "* pub_authors\n",
    "\n",
    "* coutries\n",
    "\n",
    "Muestre los dos primeros y los dos últimos registros de cada dataframe. "
   ]
  },
  {
   "cell_type": "code",
   "execution_count": 59,
   "metadata": {},
   "outputs": [
    {
     "name": "stdout",
     "output_type": "stream",
     "text": [
      "193\n",
      "[' 35121084', ' 35120121', ' 35113400', ' 35104837', ' 35064679', ' 35047841', ' 35043846', ' 35018222', ' 34962985', ' 34960145', ' 34938321', ' 34878103', ' 34810701', ' 34741053', ' 34731497', ' 34659277', ' 34534714', ' 34448248', ' 34446793', ' 34416565', ' 34406852', ' 34348791', ' 34345025', ' 34305903', ' 34233044', ' 34229490', ' 34211468', ' 34188846', ' 34165082', ' 34025990', ' 34025776', ' 33913659', ' 33872206', ' 33846529', ' 33845910', ' 33822137', ' 33747978', ' 33742029', ' 33668747', ' 33652915', ' 33574059', ' 33544737', ' 33503026', ' 33419936', ' 33398025', ' 33326438', ' 33321976', ' 33294020', ' 33254102', ' 33184198', ' 33080926', ' 33062287', ' 32970683', ' 32942623', ' 32931955', ' 32912150', ' 32887672', ' 32807182', ' 32719690', ' 32661155', ' 32648524', ' 32645885', ' 32598029', ' 32581039', ' 32512194', ' 32462583', ' 32447234', ' 32419208', ' 32390256', ' 32377357', ' 32359157', ' 32293439', ' 32292644', ' 32247171', ' 32221920', ' 32088760', ' 31947590', ' 31911190', ' 31902732', ' 31891233', ' 31822297', ' 31773318', ' 31746150', ' 31698729', ' 31671555', ' 31628908', ' 31616044', ' 31611888', ' 31464148', ' 31417618', ' 31376146', ' 31350885', ' 31284667', ' 31254307', ' 31155034', ' 31154984', ' 31138640', ' 31067326', ' 30981810', ' 30880832', ' 30581024', ' 30541084', ' 30514945', ' 30510174', ' 30459831', ' 30371872', ' 30248857', ' 30228363', ' 30096036', ' 30056980', ' 29969982', ' 29714581', ' 29632024', ' 29617771', ' 29580753', ' 29477599', ' 29475888', ' 29321624', ' 29188006', ' 29140767', ' 29086402', ' 29048566', ' 29045648', ' 28889342', ' 28878794', ' 28792418', ' 28789679', ' 28760895', ' 28583505', ' 28572335', ' 28475225', ' 28442558', ' 28367073', ' 28367072', ' 28318380', ' 28274840', ' 28239602', ' 28105701', ' 27940644', ' 27891694', ' 27863902', ' 27825829', ' 27785541', ' 27363308', ' 27776178', ' 27655649', ' 27622673', ' 27577878', ' 27547576', ' 27547186', ' 27542721', ' 27321580', ' 27185408', ' 27151788', ' 27102486', ' 27093110', ' 27038556', ' 26995696', ' 26977404', ' 26961748', ' 26947765', ' 26921298', ' 26903960', ' 26831713', ' 26645579', ' 26636962', ' 26537019', ' 26465748', ' 26320872', ' 26240451', ' 26226137', ' 26217358', ' 26048971', ' 25977422', ' 25928534', ' 25880392', ' 25673391', ' 25524569', ' 25435058', ' 25268381', ' 25091349', ' 24929830', ' 24823669', ' 24603342', ' 24556246', ' 24342523', ' 22615968', ' 22038073', ' 19844075', ' 19177531', ' 19018989', ' 17187350', ' 8661097']\n",
      "193\n",
      "['2022', '2022', '2021', '2022', '2022', '2021', '2022', '2022', '2022', '2021', '2021', '2022', '2021', '2021', '2021', '2021', '2021', '2021', '2021', '2021', '2021', '2021', '2021', '2021', '2021', '2021', '2021', '2021', '2021', '2021', '2021', '2021', '2021', '2021', '2021', '2021', '2021', '2021', '2021', '2021', '2021', '2021', '2021', '2021', '2021', '2020', '2020', '2020', '2021', '2020', '2020', '2020', '2020', '2020', '2020', '2020', '2020', '2020', '2020', '2020', '2021', '2020', '2020', '2020', '2020', '2020', '2020', '2020', '2020', '2020', '2021', '2019', '2020', '2020', '2020', '2020', '2020', '2020', '2020', '2020', '2019', '2020', '2020', '2019', '2019', '2019', '2020', '2019', '2020', '2019', '2020', '2019', '2019', '2019', '2019', '2019', '2019', '2019', '2019', '2019', '2019', '2019', '2018', '2019', '2018', '2019', '2018', '2018', '2019', '2018', '2018', '2018', '2018', '2018', '2018', '2018', '2018', '2018', '2017', '2017', '2018', '2017', '2018', '2017', '2017', '2017', '2017', '2017', '2017', '2017', '2017', '2017', '2017', '2017', '2017', '2017', '2017', '2017', '2017', '2017', '2017', '2016', '2017', '2016', '2016', '2016', '2016', '2017', '2016', '2016', '2016', '2016', '2016', '2016', '2016', '2016', '2016', '2016', '2016', '2016', '2016', '2016', '2016', '2016', '2015', '2015', '2015', '2015', '2015', '2015', '2016', '2015', '2015', '2015', '2015', '2015', '2015', '2015', '2015', '2014', '2014', '2014', '2014', '2014', '2014', '2013', '2012', '2012', '2010', '2009', '2008', '2007', '1996']\n",
      "193\n",
      "[12, 14, 2, 54, 7, 9, 6, 10, 7, 4, 8, 7, 4, 10, 9, 16, 11, 7, 8, 7, 7, 4, 97, 16, 9, 16, 20, 8, 4, 6, 12, 11, 11, 10, 7, 9, 26, 7, 3, 11, 23, 6, 8, 26, 16, 11, 10, 18, 8, 17, 15, 7, 3, 13, 14, 9, 14, 13, 8, 13, 7, 7, 8, 13, 9, 5, 12, 2, 7, 11, 23, 6, 3, 9, 6, 4, 3, 10, 6, 728, 3, 9, 6, 7, 9, 5, 13, 15, 13, 7, 14, 17, 6, 26, 19, 13, 10, 38, 11, 6, 25, 1, 0, 35, 9, 2, 7, 10, 7, 9, 14, 3, 33, 9, 5, 4, 24, 10, 7, 13, 7, 22, 14, 7, 8, 2, 10, 24, 20, 9, 2, 6, 3, 4, 15, 7, 12, 5, 7, 11, 8, 3, 6, 8, 8, 8, 16, 93, 6, 10, 5, 6, 62, 11, 9, 44, 12, 10, 2, 9, 6, 9, 48, 5, 5, 13, 2, 12, 44, 75, 31, 5, 20, 4, 14, 10, 1, 6, 16, 7, 6, 15, 10, 37, 6, 8, 3, 9, 2, 23, 7, 1, 9]\n",
      "3740\n"
     ]
    }
   ],
   "source": [
    "# Escriba aquí su código para el ejercicio 3\n",
    "#9 lineas\n",
    "#print (a)\n",
    "#z=re.sub(r')z=re.findall(r'[DIMP]{4}.*\\d\\n',x)\n",
    "x=a[1:].split('PMID-')\n",
    "ID=[]\n",
    "AU=[]\n",
    "DP=[]\n",
    "AD=[]\n",
    "for PMID in x:\n",
    "    w=PMID.split('\\n')\n",
    "    AUc=0\n",
    "    ID.append(w[0])\n",
    "    for fila in w:\n",
    "        v=fila.split(' ')\n",
    "        if v[0] == 'DP':\n",
    "            DP.append(v[3])\n",
    "        if v[0] == 'AU':\n",
    "            AUc=AUc+1\n",
    "        if v[0] == 'AD':\n",
    "            u=fila.split(',')\n",
    "            AD.append(u[-1])\n",
    "    AU.append(AUc)\n",
    "ID.pop(0)\n",
    "AU.pop(0)\n",
    "print (len (ID))\n",
    "print (ID)\n",
    "print (len(DP))\n",
    "print(DP)\n",
    "print (len (AU))\n",
    "print (AU)\n",
    "print (len(AD))\n",
    "#print (AD[18])\n"
   ]
  },
  {
   "cell_type": "markdown",
   "metadata": {
    "jp-MarkdownHeadingCollapsed": true,
    "tags": []
   },
   "source": [
    "## Ejercicio 4 [2 puntos]\n",
    "\n",
    "Realice la visualización de los datos del ejercicio 3. \n",
    "\n",
    "* ```pubyear```: utilizando el conteo artículos por año, calcule la media y la desviación estandar (asumiendo que la distribución es normal). Realice un gráfico de la distribución normal de sus datos. Coloque el título, leyenda de los ejes \"x\" e \"y\", y la leyenda de la curva (utilice las expresiones matemáticas tipos latex de ser necesario). \n",
    "\n",
    "* ```pub_authors```: realice un boxplot del conteo de autores por artículo. Coloque las leyendas adecuadas para cada eje y el título.  \n",
    "\n",
    "* ```countries```: realice una nube de puntos (adaptación de su tarea), resalte al menos 3 países con flechas. Coloque las leyendas adecuadas para cada eje y el título. \n"
   ]
  },
  {
   "cell_type": "code",
   "execution_count": 4,
   "metadata": {},
   "outputs": [],
   "source": [
    "# Escriba aquí su código para el ejercicio 4"
   ]
  },
  {
   "cell_type": "markdown",
   "metadata": {},
   "source": [
    "## Ejercicio 5 [1 punto]\n",
    "\n",
    "Interprete los resultados del **ejercicio 4**"
   ]
  },
  {
   "cell_type": "markdown",
   "metadata": {},
   "source": [
    "### Escriba la respuesta del ejercicio 5\n"
   ]
  },
  {
   "cell_type": "markdown",
   "metadata": {},
   "source": [
    "## Ejercicio 6 [2 puntos]\n",
    "\n",
    "Para algún gen de interés, realice lo siguiente: \n",
    "\n",
    "1. Una búsqueda en la página del [NCBI nucleotide](https://www.ncbi.nlm.nih.gov/nucleotide/).\n",
    "\n",
    "2. Descargue el ```Accession List``` de su búsqueda.\n",
    "\n",
    "3. Cargue el ```Accession List``` en este notebook y haga una descarga de la data tipo ```genbank``` utilizando los diez primeros IDs de accesión. \n",
    "\n",
    "4. Arme un árbol filogenético para los resultados del paso 3.\n",
    "\n",
    "5. Interprete el árbol del paso 4. "
   ]
  },
  {
   "cell_type": "code",
   "execution_count": 5,
   "metadata": {},
   "outputs": [],
   "source": [
    "# Escriba aquí su código para el ejercicio 6\n",
    "#Búsqueda en NCBI nucleotido de Dermatophilus congolensis 16S rRNA\n"
   ]
  },
  {
   "cell_type": "markdown",
   "metadata": {},
   "source": [
    "**Escriba aquí la interpretación del árbol**"
   ]
  },
  {
   "cell_type": "markdown",
   "metadata": {},
   "source": [
    "## Ejercicio 7 [1 punto]\n",
    "\n",
    "\n",
    "1. Cree en GitHub un repositorio de nombre ```GBI6_ExamenPython```. \n",
    "2. Cree un archivo ```Readme.md``` que debe tener lo siguiente: \n",
    "- Datos personales\n",
    "- Características del computador\n",
    "- Versión de Python/Anaconda y de cada uno de los módulos/paquetes y utilizados\n",
    "- Explicación de la data utilizada\n",
    "\n",
    "3. Cree un directorio de nombre ```data``` donde deben estar guardado la data utilizada \n",
    "4. Realice al menos 1 control de la versión (commits) por cada ejercicio (del 1 al 6), con un mensaje que inicie como: \n",
    "\n",
    "```sh \n",
    "Carlitos Alimaña ha realizado .....  \n",
    "```"
   ]
  }
 ],
 "metadata": {
  "kernelspec": {
   "display_name": "Python 3",
   "language": "python",
   "name": "python3"
  },
  "language_info": {
   "codemirror_mode": {
    "name": "ipython",
    "version": 3
   },
   "file_extension": ".py",
   "mimetype": "text/x-python",
   "name": "python",
   "nbconvert_exporter": "python",
   "pygments_lexer": "ipython3",
   "version": "3.8.5"
  },
  "latex_envs": {
   "LaTeX_envs_menu_present": true,
   "autoclose": false,
   "autocomplete": true,
   "bibliofile": "biblio.bib",
   "cite_by": "apalike",
   "current_citInitial": 1,
   "eqLabelWithNumbers": true,
   "eqNumInitial": 1,
   "hotkeys": {
    "equation": "Ctrl-E",
    "itemize": "Ctrl-I"
   },
   "labels_anchors": false,
   "latex_user_defs": false,
   "report_style_numbering": false,
   "user_envs_cfg": false
  },
  "toc": {
   "base_numbering": 1,
   "nav_menu": {},
   "number_sections": true,
   "sideBar": false,
   "skip_h1_title": false,
   "title_cell": "Table of Contents",
   "title_sidebar": "Contents",
   "toc_cell": false,
   "toc_position": {
    "height": "1152.67px",
    "left": "41px",
    "top": "110px",
    "width": "253.458px"
   },
   "toc_section_display": true,
   "toc_window_display": false
  },
  "varInspector": {
   "cols": {
    "lenName": 16,
    "lenType": 16,
    "lenVar": 40
   },
   "kernels_config": {
    "python": {
     "delete_cmd_postfix": "",
     "delete_cmd_prefix": "del ",
     "library": "var_list.py",
     "varRefreshCmd": "print(var_dic_list())"
    },
    "r": {
     "delete_cmd_postfix": ") ",
     "delete_cmd_prefix": "rm(",
     "library": "var_list.r",
     "varRefreshCmd": "cat(var_dic_list()) "
    }
   },
   "types_to_exclude": [
    "module",
    "function",
    "builtin_function_or_method",
    "instance",
    "_Feature"
   ],
   "window_display": false
  }
 },
 "nbformat": 4,
 "nbformat_minor": 4
}
