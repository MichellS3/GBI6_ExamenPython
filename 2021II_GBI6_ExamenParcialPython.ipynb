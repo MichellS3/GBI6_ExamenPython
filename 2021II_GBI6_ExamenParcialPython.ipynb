{
 "cells": [
  {
   "cell_type": "markdown",
   "metadata": {},
   "source": [
    "<img src=\"https://www.ikiam.edu.ec/img/logo-ikiam-grey.png\" width=300 height=240 />\n",
    "\n",
    "# EXAMEN PARCIAL PYTHON\n",
    "    \n",
    "\n",
    "## GBI6-2021II: BIOINFORMÁTICA\n",
    "\n",
    "**Salcán Castillo Shirley Michell\n",
    "\n",
    "**18-02-2021**"
   ]
  },
  {
   "cell_type": "markdown",
   "metadata": {},
   "source": [
    "<font color='red'>NO AGREGUE NUEVAS CELDAS, UTILICE ÚNICAMENTE LAS QUE ESTÁN CREADAS</font>\n"
   ]
  },
  {
   "cell_type": "markdown",
   "metadata": {},
   "source": [
    "### REQUERIMIENTOS PARA EL EXAMEN\n",
    "Para este examen se requiere dos documentos: \n",
    "\n",
    "1. Archivo ```miningscience.py``` donde tendrá dos funciones:\n",
    "\n",
    "2. Archivo ```2021II_GBI6_ExamenParcialPython``` donde se llamará las funciones y se obtendrá resultados."
   ]
  },
  {
   "cell_type": "markdown",
   "metadata": {},
   "source": [
    "## Ejercicio 1 [2 puntos]\n",
    "Cree el archivo ```miningscience.py``` con las siguientes dosfunciones:\n",
    "    \n",
    "i. ```download_pubmed```: para descargar la data de PubMed utilizando el **ENTREZ** de Biopython. El parámetro de entrada para la función es el ```keyword```. \n",
    "    \n",
    "ii. ```mining_pubs```: esta función debe utilizar el módulo **re** y utilizar el párametro ```tipo``` para realizar lo siguiente:\n",
    "        \n",
    "* Si el tipo es \"DP\" recupera el año de publicación del artículo. El retorno es un *dataframe* con el **PMID** y el **DP_year**.\n",
    "      \n",
    "* Si el tipo es \"AU\" recupera el número de autores por **PMID**. El retorno es un *dataframe* con el **PMID** y el **num_auth**. \n",
    "      \n",
    "* Si el tipo es \"AD\" recupera el conteo de autores por país. El retorno es un *dataframe* con el **country** y el **num_auth**. \n",
    "\n",
    "* *Puede utilizar un ```if``` dentro de la función.* \n",
    "\n",
    "* *Cree un docstring para cada función.* \n",
    "\n",
    "Luego de crear las funciones, cargue el módulo ```miningscience``` como ```msc``` e imprima docstring de cada función.\n",
    "\n",
    "\n"
   ]
  },
  {
   "cell_type": "code",
   "execution_count": 1,
   "metadata": {},
   "outputs": [
    {
     "name": "stdout",
     "output_type": "stream",
     "text": [
      "Help on function download_pubmed in module miningscience:\n",
      "\n",
      "download_pubmed(keyword)\n",
      "    La función download_pubmed recibe un argumento, que corresponde a palabras claves con las cuales se realizará una búsqueda \n",
      "    en Pubmed y  retorna la búsqueda en la base de datos antes nombrada, tal cual una descarga tipo PubMed.\n",
      "    keyword: son palabras claves de búsqueda\n",
      "\n",
      "Help on function mining_pubs in module miningscience:\n",
      "\n",
      "mining_pubs(tipo, archivo)\n",
      "    La función mining_pubs recibe dos argumentos, que corresponde al tipo de minado de datos que se desea y el documento del \n",
      "    cual se va a extraer los datos.\n",
      "    Tipo: puede ser DP, AU o AD.\n",
      "           \"DP\" --> recupera el año de publicación del artículo. El retorno es un dataframe con el PMID y el DP_year.\n",
      "           \"AU\" --> recupera el número de autores por PMID. El retorno es un dataframe con el PMID y el num_auth.\n",
      "           \"AD\" -->recupera el conteo de autores por país. El retorno es un dataframe con el country y el num_auth.\n",
      "    Archivo: corresponde al archivo del cual se extraerá la infomarción\n",
      "\n"
     ]
    }
   ],
   "source": [
    "import miningscience as msc\n",
    "\n",
    "help(msc.download_pubmed)\n",
    "help(msc.mining_pubs)"
   ]
  },
  {
   "cell_type": "markdown",
   "metadata": {},
   "source": [
    "\n",
    "## Ejercicio 2 [1 punto]\n",
    "\n",
    "\n",
    "Utilice la función ```download_pubmed``` para descargar la data con el keyword ```Ecuador genomics``` e imprima lo siguiente: \n",
    "\n",
    "```python\n",
    "'El número de artículos es: xx' # xx corresponde al número de artículos recuperados\n",
    "\n",
    "'El PMID del primer artículo es: xxxxxxxx' # xxxxxxxx corresponde al ID del artículo en PUDMED\n",
    "\n",
    "```"
   ]
  },
  {
   "cell_type": "code",
   "execution_count": 2,
   "metadata": {
    "scrolled": false
   },
   "outputs": [
    {
     "name": "stdout",
     "output_type": "stream",
     "text": [
      "El número de artículos es:  193\n",
      "El PMID del primero artículo es:  PMID- 35121084\n",
      "\n"
     ]
    }
   ],
   "source": [
    "# Escriba aquí su código para el ejercicio 2\n",
    "import miningscience\n",
    "import re\n",
    "a=miningscience.download_pubmed('Ecuador genomics')\n",
    "b=re.findall(r'[DIMP]{4}\\-.*\\d\\n',a)\n",
    "print ('El número de artículos es: ', len(b))\n",
    "print ('El PMID del primero artículo es: ',b[0])"
   ]
  },
  {
   "cell_type": "markdown",
   "metadata": {},
   "source": [
    "## Ejercicio 3 [1 punto]\n",
    "\n",
    "Utilice la función ```mining_pubs``` para crear los siguientes dataframes: \n",
    "\n",
    "* pub_year\n",
    "\n",
    "* pub_authors\n",
    "\n",
    "* coutries\n",
    "\n",
    "Muestre los dos primeros y los dos últimos registros de cada dataframe. "
   ]
  },
  {
   "cell_type": "code",
   "execution_count": 14,
   "metadata": {},
   "outputs": [
    {
     "name": "stdout",
     "output_type": "stream",
     "text": [
      "DataFrames de pub_year\n",
      "        PMID DP_year\n",
      "0   35121084    2022\n",
      "1   35120121    2022\n",
      "          PMID DP_year\n",
      "191   17187350    2007\n",
      "192    8661097    1996\n",
      " \n",
      "DataFrames de pub_authors\n",
      "        PMID  num_auth\n",
      "0   35121084        12\n",
      "1   35120121        14\n",
      "          PMID  num_auth\n",
      "191   17187350         1\n",
      "192    8661097         9\n",
      " \n",
      "DataFrames de countries\n",
      "            Country  num_auth\n",
      "0           Andorra         1\n",
      "1   The Netherlands        36\n",
      "2         Argentina        59\n",
      "3           Austria        25\n",
      "4         Australia        94\n",
      "5        Bangladesh         2\n",
      "6           Belgium        42\n",
      "7          Bulgaria         5\n",
      "8           Bolivia         7\n",
      "9            Brazil       200\n",
      "10           Belize         3\n",
      "11           Canada       100\n",
      "12      Switzerland        35\n",
      "13            Chile        52\n",
      "14            China        51\n",
      "15         Colombia        90\n",
      "16       Costa Rica        18\n",
      "17             Cuba         7\n",
      "18   Czech Republic        25\n",
      "19          Germany       172\n",
      "20          Denmark        36\n",
      "21          Ecuador       362\n",
      "22          Estonia        11\n",
      "23            Egypt         3\n",
      "24            Spain       258\n",
      "25          Finland         7\n",
      "26           France        85\n",
      "27            Gabon         4\n",
      "28   United Kingdom       234\n",
      "29          Grenada         2\n",
      "30          Georgia         7\n",
      "31    French Guiana         3\n",
      "32           Gambia         1\n",
      "33           Greece        16\n",
      "34        Guatemala         3\n",
      "35          Croatia         1\n",
      "36          Hungary        21\n",
      "37        Indonesia         2\n",
      "38          Ireland         3\n",
      "39           Israel         6\n",
      "40            India        51\n",
      "41             Iraq         1\n",
      "42             Iran        15\n",
      "43            Italy        72\n",
      "44            Japan        43\n",
      "45            Kenya         7\n",
      "46           Kuwait         1\n",
      "47             Laos         2\n",
      "48        Sri Lanka         1\n",
      "49        Lithuania         1\n",
      "50           Malawi         2\n",
      "                     Country  num_auth\n",
      "51                    Mexico        71\n",
      "52                  Malaysia         2\n",
      "53                Mozambique         1\n",
      "54             New Caledonia         1\n",
      "55                   Nigeria         2\n",
      "56                 Nicaragua         1\n",
      "57               Netherlands         6\n",
      "58                    Norway        40\n",
      "59                     Nepal         1\n",
      "60               New Zealand         7\n",
      "61                    Panama        13\n",
      "62                      Peru        37\n",
      "63                  Pakistan        12\n",
      "64                    Poland         5\n",
      "65                  Portugal       111\n",
      "66                  Paraguay         2\n",
      "67                     Qatar         1\n",
      "68                   Romania         5\n",
      "69                    Serbia         4\n",
      "70                    Russia        34\n",
      "71              Saudi Arabia         9\n",
      "72                Seychelles         1\n",
      "73                    Sweden        33\n",
      "74                 Singapore         1\n",
      "75                  Slovenia         2\n",
      "76                  Slovakia         3\n",
      "77                   Senegal         1\n",
      "78                  Suriname         2\n",
      "79                  Thailand         1\n",
      "80                    Turkey        59\n",
      "81                    Taiwan         1\n",
      "82                   Ukraine         5\n",
      "83                    Uganda         2\n",
      "84  United States of America       544\n",
      "85                   Uruguay         5\n",
      "86                 Venezuela        11\n",
      "87                   Vietnam         1\n",
      "88                     Samoa         1\n",
      "89              South Africa        32\n",
      "90                  Zimbabwe         1\n"
     ]
    }
   ],
   "source": [
    "print ('DataFrames de pub_year')\n",
    "l=msc.mining_pubs('DP',a)\n",
    "print(l.head(2))\n",
    "print(l.tail(2))\n",
    "print (' ')\n",
    "print ('DataFrames de pub_authors')\n",
    "k2=msc.mining_pubs('AU',a)\n",
    "print(k2.head(2))\n",
    "print(k2.tail(2))\n",
    "print (' ')\n",
    "print ('DataFrames de countries')\n",
    "j=msc.mining_pubs('AD',a)\n",
    "print(j.head(2))\n",
    "print(j.tail(2))"
   ]
  },
  {
   "cell_type": "markdown",
   "metadata": {
    "jp-MarkdownHeadingCollapsed": true,
    "tags": []
   },
   "source": [
    "## Ejercicio 4 [2 puntos]\n",
    "\n",
    "Realice la visualización de los datos del ejercicio 3. \n",
    "\n",
    "* ```pubyear```: utilizando el conteo artículos por año, calcule la media y la desviación estandar (asumiendo que la distribución es normal). Realice un gráfico de la distribución normal de sus datos. Coloque el título, leyenda de los ejes \"x\" e \"y\", y la leyenda de la curva (utilice las expresiones matemáticas tipos latex de ser necesario). \n",
    "\n",
    "* ```pub_authors```: realice un boxplot del conteo de autores por artículo. Coloque las leyendas adecuadas para cada eje y el título.  \n",
    "\n",
    "* ```countries```: realice una nube de puntos (adaptación de su tarea), resalte al menos 3 países con flechas. Coloque las leyendas adecuadas para cada eje y el título. \n"
   ]
  },
  {
   "cell_type": "code",
   "execution_count": 67,
   "metadata": {},
   "outputs": [
    {
     "name": "stdout",
     "output_type": "stream",
     "text": [
      "LITERAL A: GRÁFICA DE DISTRIBUCIÓN NORMAL\n",
      "La lista de conteo artículos por año es : [21, 6, 1, 1, 36, 1, 15, 23, 1, 1, 22, 2, 8, 40, 1, 14]\n",
      "El promedio es:  12.0625\n",
      "La desviación estándar es:  12.631650476085854\n"
     ]
    },
    {
     "data": {
      "image/png": "[encoded data removed]",
      "text/plain": [
       "<Figure size 432x288 with 1 Axes>"
      ]
     },
     "metadata": {
      "needs_background": "light"
     },
     "output_type": "display_data"
    },
    {
     "name": "stdout",
     "output_type": "stream",
     "text": [
      "LITERAL B: GRÁFICA DE BOXPLOT\n"
     ]
    },
    {
     "data": {
      "image/png": "[encoded data removed]",
      "text/plain": [
       "<Figure size 648x432 with 1 Axes>"
      ]
     },
     "metadata": {
      "needs_background": "light"
     },
     "output_type": "display_data"
    },
    {
     "name": "stdout",
     "output_type": "stream",
     "text": [
      "LITERAL C: GRÁFICA DE NUBES\n"
     ]
    },
    {
     "data": {
      "image/png": "[encoded data removed]",
      "text/plain": [
       "<Figure size 1296x864 with 2 Axes>"
      ]
     },
     "metadata": {
      "needs_background": "light"
     },
     "output_type": "display_data"
    }
   ],
   "source": [
    "# Escriba aquí su código para el ejercicio 4\n",
    "import pandas as pd\n",
    "import numpy as np\n",
    "import scipy.stats as stats\n",
    "import matplotlib.pyplot as plt\n",
    "import csv as csv\n",
    "\n",
    "#Gráfica de Distribución Normal (pubyear)\n",
    "print ('LITERAL A: GRÁFICA DE DISTRIBUCIÓN NORMAL')\n",
    "i = l.iloc[:,1]\n",
    "s = pd.Series(i)\n",
    "h = list(set(s))\n",
    "g=s\n",
    "f=h\n",
    "h=[0]*len(f)\n",
    "k=0\n",
    "for elem in f:\n",
    "    d=0\n",
    "    for comp in g:\n",
    "        if elem == str(comp):\n",
    "            d=d+1\n",
    "    h[k]=d\n",
    "    k=k+1\n",
    "print ('La lista de conteo artículos por año es :',h)\n",
    "mean = np.average(h)\n",
    "print ('El promedio es: ',mean)\n",
    "stan = np.std(h)\n",
    "print ('La desviación estándar es: ',stan)\n",
    "x = np.linspace(mean - 3*stan, mean + 3*stan, 100)\n",
    "sigma = stan\n",
    "label = '$\\mu = %.1f, \\ \\sigma^2=%.1f$' %(mean, stan)\n",
    "y_norm = stats.norm.pdf(x, mean, sigma)\n",
    "plt.plot(x, y_norm, label=label, c = 'lightseagreen')\n",
    "plt.xlabel('Número de publicaciones')\n",
    "plt.ylabel('Probabilidad de número de publicaciones')\n",
    "plt.title('Distribución Normal del conteo de artículos por año')\n",
    "plt.legend(title = \"Parámetros\")\n",
    "plt.show()\n",
    "\n",
    "#Gráfica de Boxplot (pub_authors)\n",
    "print ('LITERAL B: GRÁFICA DE BOXPLOT')\n",
    "i = k2.iloc[:,1]\n",
    "s = pd.Series(i)\n",
    "s1 = s.tolist()\n",
    "s1.pop(79) #Eliminamos el dato atípico\n",
    "fig = plt.figure(1, figsize=(9, 6))\n",
    "ax = fig.add_subplot(111)\n",
    "bp = ax.boxplot(s1)\n",
    "plt.xlabel('Num. listas de Autores')\n",
    "plt.ylabel('Distribución')\n",
    "plt.title('Boxplot del conteo de autores por artículo')\n",
    "plt.show()\n",
    "\n",
    "#Gráfica de Nubes (countries)\n",
    "print ('LITERAL C: GRÁFICA DE NUBES')\n",
    "iu= j.iloc[:,0]\n",
    "su=pd.Series(iu)\n",
    "i = j.iloc[:,1]\n",
    "sa = pd.Series(i)\n",
    "s = sa.tolist()\n",
    "zip_coordinates = {}\n",
    "with open('Data/countries.txt') as f:\n",
    "    csvr = csv.DictReader(f)\n",
    "    for row in csvr:\n",
    "        zip_coordinates[row['name']] = [float(row['latitude']),\n",
    "                                           float(row['longitude'])]\n",
    "code = []\n",
    "long = []\n",
    "lat = []\n",
    "count = s\n",
    "for inte in su:\n",
    "    if inte in zip_coordinates.keys():\n",
    "        code.append(inte)\n",
    "        lat.append(zip_coordinates[inte][0])\n",
    "        long.append(zip_coordinates[inte][1])\n",
    "\n",
    "plt.scatter(long, lat, s = count, c= count)\n",
    "plt.colorbar()\n",
    "ard = dict(arrowstyle=\"->\")\n",
    "plt.annotate('Ecuador', xy = (-78.183406, -1.831239), \n",
    "               xytext = (-75.25, 1), arrowprops = ard)\n",
    "plt.annotate('Guatemala', xy = (-90.230759, 15.783471), \n",
    "               xytext = (-110, 20.4292), arrowprops= ard)\n",
    "plt.annotate('United States of America', xy = (-95.712891, 37.09024), \n",
    "               xytext = (-85.1106, 45.3736), arrowprops= ard)\n",
    "params = plt.gcf()\n",
    "plSize = params.get_size_inches()\n",
    "params.set_size_inches( (plSize[0] * 3, plSize[1] * 3) )\n",
    "plt.xlabel('Longitud')\n",
    "plt.ylabel('Latitud')\n",
    "plt.title('Mapa de nubes, distribución de autores por país')\n",
    "plt.show()"
   ]
  },
  {
   "cell_type": "markdown",
   "metadata": {},
   "source": [
    "## Ejercicio 5 [1 punto]\n",
    "\n",
    "Interprete los resultados del **ejercicio 4**"
   ]
  },
  {
   "cell_type": "markdown",
   "metadata": {},
   "source": [
    "### Escriba la respuesta del ejercicio 5\n"
   ]
  },
  {
   "cell_type": "markdown",
   "metadata": {},
   "source": [
    "## Ejercicio 6 [2 puntos]\n",
    "\n",
    "Para algún gen de interés, realice lo siguiente: \n",
    "\n",
    "1. Una búsqueda en la página del [NCBI nucleotide](https://www.ncbi.nlm.nih.gov/nucleotide/).\n",
    "\n",
    "2. Descargue el ```Accession List``` de su búsqueda.\n",
    "\n",
    "3. Cargue el ```Accession List``` en este notebook y haga una descarga de la data tipo ```genbank``` utilizando los diez primeros IDs de accesión. \n",
    "\n",
    "4. Arme un árbol filogenético para los resultados del paso 3.\n",
    "\n",
    "5. Interprete el árbol del paso 4. "
   ]
  },
  {
   "cell_type": "code",
   "execution_count": 5,
   "metadata": {},
   "outputs": [],
   "source": [
    "# Escriba aquí su código para el ejercicio 6\n",
    "#Búsqueda en NCBI nucleotido de Dermatophilus congolensis 16S rRNA\n"
   ]
  },
  {
   "cell_type": "markdown",
   "metadata": {},
   "source": [
    "**Escriba aquí la interpretación del árbol**"
   ]
  },
  {
   "cell_type": "markdown",
   "metadata": {},
   "source": [
    "## Ejercicio 7 [1 punto]\n",
    "\n",
    "\n",
    "1. Cree en GitHub un repositorio de nombre ```GBI6_ExamenPython```. \n",
    "2. Cree un archivo ```Readme.md``` que debe tener lo siguiente: \n",
    "- Datos personales\n",
    "- Características del computador\n",
    "- Versión de Python/Anaconda y de cada uno de los módulos/paquetes y utilizados\n",
    "- Explicación de la data utilizada\n",
    "\n",
    "3. Cree un directorio de nombre ```data``` donde deben estar guardado la data utilizada \n",
    "4. Realice al menos 1 control de la versión (commits) por cada ejercicio (del 1 al 6), con un mensaje que inicie como: \n",
    "\n",
    "```sh \n",
    "Carlitos Alimaña ha realizado .....  \n",
    "```"
   ]
  }
 ],
 "metadata": {
  "kernelspec": {
   "display_name": "Python 3",
   "language": "python",
   "name": "python3"
  },
  "language_info": {
   "codemirror_mode": {
    "name": "ipython",
    "version": 3
   },
   "file_extension": ".py",
   "mimetype": "text/x-python",
   "name": "python",
   "nbconvert_exporter": "python",
   "pygments_lexer": "ipython3",
   "version": "3.8.5"
  },
  "latex_envs": {
   "LaTeX_envs_menu_present": true,
   "autoclose": false,
   "autocomplete": true,
   "bibliofile": "biblio.bib",
   "cite_by": "apalike",
   "current_citInitial": 1,
   "eqLabelWithNumbers": true,
   "eqNumInitial": 1,
   "hotkeys": {
    "equation": "Ctrl-E",
    "itemize": "Ctrl-I"
   },
   "labels_anchors": false,
   "latex_user_defs": false,
   "report_style_numbering": false,
   "user_envs_cfg": false
  },
  "toc": {
   "base_numbering": 1,
   "nav_menu": {},
   "number_sections": true,
   "sideBar": false,
   "skip_h1_title": false,
   "title_cell": "Table of Contents",
   "title_sidebar": "Contents",
   "toc_cell": false,
   "toc_position": {
    "height": "1152.67px",
    "left": "41px",
    "top": "110px",
    "width": "253.458px"
   },
   "toc_section_display": true,
   "toc_window_display": false
  },
  "varInspector": {
   "cols": {
    "lenName": 16,
    "lenType": 16,
    "lenVar": 40
   },
   "kernels_config": {
    "python": {
     "delete_cmd_postfix": "",
     "delete_cmd_prefix": "del ",
     "library": "var_list.py",
     "varRefreshCmd": "print(var_dic_list())"
    },
    "r": {
     "delete_cmd_postfix": ") ",
     "delete_cmd_prefix": "rm(",
     "library": "var_list.r",
     "varRefreshCmd": "cat(var_dic_list()) "
    }
   },
   "types_to_exclude": [
    "module",
    "function",
    "builtin_function_or_method",
    "instance",
    "_Feature"
   ],
   "window_display": false
  }
 },
 "nbformat": 4,
 "nbformat_minor": 4
}
